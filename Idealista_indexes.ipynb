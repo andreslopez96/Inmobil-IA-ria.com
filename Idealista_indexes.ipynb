{
 "cells": [
  {
   "cell_type": "code",
   "execution_count": null,
   "metadata": {},
   "outputs": [],
   "source": [
    "import requests\n",
    "from bs4 import BeautifulSoup as bs\n",
    "import random\n",
    "import time\n",
    "import pandas as pd\n",
    "import numpy as np\n",
    "from selenium import webdriver\n",
    "from selenium.webdriver.common.by import By\n",
    "from selenium.webdriver.common.keys import Keys\n",
    "import undetected_chromedriver as uc"
   ]
  },
  {
   "cell_type": "code",
   "execution_count": null,
   "metadata": {},
   "outputs": [],
   "source": [
    "browser = uc.Chrome()"
   ]
  },
  {
   "cell_type": "code",
   "execution_count": null,
   "metadata": {},
   "outputs": [],
   "source": [
    "url_grande = \"https://www.idealista.com/venta-viviendas/zaragoza-zaragoza/\""
   ]
  },
  {
   "cell_type": "code",
   "execution_count": null,
   "metadata": {},
   "outputs": [],
   "source": [
    "browser.get(url_grande)"
   ]
  },
  {
   "cell_type": "code",
   "execution_count": null,
   "metadata": {},
   "outputs": [],
   "source": [
    "browser.implicitly_wait(10)\n"
   ]
  },
  {
   "cell_type": "code",
   "execution_count": null,
   "metadata": {},
   "outputs": [],
   "source": [
    "browser.find_element(\"xpath\",'//*[@id=\"didomi-notice-agree-button\"]').click()"
   ]
  },
  {
   "cell_type": "code",
   "execution_count": null,
   "metadata": {},
   "outputs": [],
   "source": [
    "html = browser.page_source"
   ]
  },
  {
   "cell_type": "code",
   "execution_count": null,
   "metadata": {},
   "outputs": [],
   "source": [
    "# Parse the HTML\n",
    "soup = bs(html, 'lxml')\n",
    "\n",
    "# Find all articles\n",
    "articles = soup.find('main', {'class': 'listing-items'}).find_all('article')\n",
    "\n",
    "# Extract 'data-element-id' from each article\n",
    "id_muebles = [article.get('data-element-id') for article in articles]\n",
    "\n",
    "# Filter out None values\n",
    "id_muebles = [muebles for muebles in id_muebles if muebles is not None]\n",
    "\n",
    "print(id_muebles)\n"
   ]
  },
  {
   "cell_type": "code",
   "execution_count": null,
   "metadata": {},
   "outputs": [],
   "source": [
    "x = 1\n",
    "ids = []\n",
    "\n",
    "while True:\n",
    "    url = f'https://www.idealista.com/venta-viviendas/zaragoza-zaragoza/pagina-{x}.htm'\n",
    "    browser.get(url)\n",
    "    time.sleep(random.randint(10, 12))\n",
    "    \n",
    "    # Fix the xpath of the cookies button\n",
    "    try:\n",
    "        browser.find_element(\"xpath\", '//*[@id=\"didomi-notice-agree-button\"]').click()\n",
    "    except:\n",
    "        pass\n",
    "\n",
    "    html = browser.page_source\n",
    "    soup = bs(html, 'lxml')\n",
    "\n",
    "    # Check that elements exist before trying to extract the page number\n",
    "    try:\n",
    "        pagina_actual = int(soup.find('main', {'class': 'listing-items'})\n",
    "                            .find('div', {'class': 'pagination'})\n",
    "                            .find('li', {'class': 'selected'}).text)\n",
    "    except AttributeError:\n",
    "        print(\"Pagination could not be found.\")\n",
    "        break\n",
    "\n",
    "    if x == pagina_actual:\n",
    "        articles = soup.find('main', {'class': 'listing-items'}).find_all('article')\n",
    "    else:\n",
    "        break\n",
    "\n",
    "    x = x + 1\n",
    "\n",
    "    for article in articles:\n",
    "        # Make sure the correct attribute is 'data-adid' or 'data-element-id'\n",
    "        id_muebles = article.get('data-element-id')  # or article.get('data-adid') if that's the right one\n",
    "        ids.append(id_muebles)\n",
    "        time.sleep(random.randint(1, 3))\n",
    "\n",
    "    # Filter out None values from ids\n",
    "    ids = [muebles for muebles in ids if muebles is not None]\n",
    "\n",
    "print(ids)\n"
   ]
  },
  {
   "cell_type": "code",
   "execution_count": null,
   "metadata": {},
   "outputs": [],
   "source": [
    "ids_casas = pd.DataFrame(ids)\n",
    "ids_casas.colums = ['id']\n",
    "ids_casas.rename(columns={0: 'id'}, inplace=True)"
   ]
  },
  {
   "cell_type": "code",
   "execution_count": null,
   "metadata": {},
   "outputs": [],
   "source": [
    "ids_casas.to_csv('ids_casas.csv', index = False)"
   ]
  }
 ],
 "metadata": {
  "kernelspec": {
   "display_name": "Python 3",
   "language": "python",
   "name": "python3"
  },
  "language_info": {
   "codemirror_mode": {
    "name": "ipython",
    "version": 3
   },
   "file_extension": ".py",
   "mimetype": "text/x-python",
   "name": "python",
   "nbconvert_exporter": "python",
   "pygments_lexer": "ipython3",
   "version": "3.9.6"
  }
 },
 "nbformat": 4,
 "nbformat_minor": 2
}
