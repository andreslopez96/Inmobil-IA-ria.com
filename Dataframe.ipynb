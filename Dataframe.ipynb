{
 "cells": [
  {
   "cell_type": "code",
   "execution_count": null,
   "metadata": {},
   "outputs": [],
   "source": [
    "import pandas as pd\n",
    "import re\n",
    "\n",
    "# Load the file (ignoring malformed lines)\n",
    "df = pd.read_csv('casas_idealista.csv', encoding='utf-16', sep=';')\n",
    "\n",
    "# Drop the 'Titulo' column\n",
    "df = df.drop(columns=['Titulo'])\n"
   ]
  },
  {
   "cell_type": "code",
   "execution_count": null,
   "metadata": {},
   "outputs": [],
   "source": [
    "# Remove rows with NaN in specific columns\n",
    "columnas_a_verificar = df.columns  # This checks all columns\n",
    "\n",
    "# Remove rows with NaN values in any column\n",
    "df_limpio = df.dropna(subset=columnas_a_verificar)"
   ]
  },
  {
   "cell_type": "code",
   "execution_count": null,
   "metadata": {},
   "outputs": [],
   "source": [
    "# Create a function to extract built and usable square meters\n",
    "def extraer_m2(texto):\n",
    "    # Use a regular expression to find the first value ending with 'm²'\n",
    "    match_construidos = re.search(r'(\\d+)\\s*m² construidos', texto)\n",
    "    match_utiles = re.search(r'(\\d+)\\s*m² útiles', texto)\n",
    "    \n",
    "    # Extract values and convert to integers if found\n",
    "    m2_construidos = int(match_construidos.group(1)) if match_construidos else None\n",
    "    m2_utiles = int(match_utiles.group(1)) if match_utiles else None\n",
    "    \n",
    "    return m2_construidos, m2_utiles\n",
    "\n",
    "# Apply the function to the 'Caracteristicas_basicas' column\n",
    "df[['m2_construidos', 'm2_utiles']] = df['Caracteristicas_basicas'].apply(lambda x: pd.Series(extraer_m2(str(x))))\n",
    "\n",
    "# Ensure the columns are of integer type\n",
    "df['m2_construidos'] = df['m2_construidos'].astype('Int64')\n",
    "df['m2_utiles'] = df['m2_utiles'].astype('Int64')\n",
    "\n",
    "# Show the result\n",
    "print(df[['Caracteristicas_basicas', 'm2_construidos', 'm2_utiles']])\n"
   ]
  },
  {
   "cell_type": "code",
   "execution_count": null,
   "metadata": {},
   "outputs": [],
   "source": [
    "# Function to extract number of bedrooms and bathrooms, considering singular and plural\n",
    "def extraer_habitaciones_banos(texto):\n",
    "    # Use regex to search for number of bedrooms and bathrooms (singular or plural)\n",
    "    match_habitaciones = re.search(r'(\\d+)\\s*habitaci[oó]n(?:es)?', texto)\n",
    "    match_banos = re.search(r'(\\d+)\\s*bañ(?:o|os)', texto)\n",
    "    \n",
    "    # Extract values and convert to integers if found\n",
    "    habitaciones = int(match_habitaciones.group(1)) if match_habitaciones else None\n",
    "    banos = int(match_banos.group(1)) if match_banos else None\n",
    "    \n",
    "    return habitaciones, banos\n",
    "\n",
    "# Apply the function to the 'Caracteristicas_basicas' column\n",
    "df[['habitaciones', 'banos']] = df['Caracteristicas_basicas'].apply(lambda x: pd.Series(extraer_habitaciones_banos(str(x))))\n",
    "\n",
    "# Ensure the columns are of integer type\n",
    "df['habitaciones'] = df['habitaciones'].astype('Int64')\n",
    "df['banos'] = df['banos'].astype('Int64')\n",
    "\n",
    "# Show the result\n",
    "print(df[['Caracteristicas_basicas', 'habitaciones', 'banos']])\n"
   ]
  },
  {
   "cell_type": "code",
   "execution_count": null,
   "metadata": {},
   "outputs": [],
   "source": [
    "# Function to extract the condition of the property\n",
    "def extraer_estado_vivienda(texto):\n",
    "    # Convert text to lowercase to avoid case sensitivity issues\n",
    "    texto = texto.lower()\n",
    "    \n",
    "    # Search for condition options\n",
    "    if \"segunda mano/buen estado\" in texto:\n",
    "        return \"Segunda mano/Buen estado\"\n",
    "    elif \"segunda mano/para reformar\" in texto:\n",
    "        return \"Segunda mano/para reformar\"\n",
    "    elif \"promoción de obra nueva\" in texto:\n",
    "        return \"Promoción de obra nueva\"\n",
    "    else:\n",
    "        return None  # If no condition is found, return None\n",
    "\n",
    "# Apply the function to the 'Caracteristicas_basicas' column\n",
    "df['estado_vivienda'] = df['Caracteristicas_basicas'].apply(lambda x: extraer_estado_vivienda(str(x)))\n",
    "\n",
    "# Show the result\n",
    "print(df[['Caracteristicas_basicas', 'estado_vivienda']])\n"
   ]
  },
  {
   "cell_type": "code",
   "execution_count": null,
   "metadata": {},
   "outputs": [],
   "source": [
    "# Create a new column 'trastero' with 1 if \"Trastero\" appears and 0 if it does not\n",
    "df['trastero'] = df['Caracteristicas_basicas'].apply(lambda x: 1 if 'Trastero' in str(x) else 0)\n",
    "\n",
    "# Show the first rows to verify\n",
    "print(df[['Caracteristicas_basicas', 'trastero']].head())\n"
   ]
  },
  {
   "cell_type": "code",
   "execution_count": null,
   "metadata": {},
   "outputs": [],
   "source": [
    "# Create a new column 'terraza' with 1 if \"Terraza\" appears and 0 if it does not\n",
    "df['terraza'] = df['Caracteristicas_basicas'].apply(lambda x: 1 if 'Terraza' in str(x) else 0)\n",
    "\n",
    "# Create a new column 'balcon' with 1 if \"Balcón\" appears and 0 if it does not\n",
    "df['balcon'] = df['Caracteristicas_basicas'].apply(lambda x: 1 if 'Balcón' in str(x) else 0)\n",
    "\n",
    "# Show the first rows to verify\n",
    "print(df[['Caracteristicas_basicas', 'terraza', 'balcon']].head())\n"
   ]
  },
  {
   "cell_type": "code",
   "execution_count": null,
   "metadata": {},
   "outputs": [],
   "source": [
    "# Create a function to detect orientations and return a dictionary of 0s and 1s\n",
    "def detectar_orientaciones(texto):\n",
    "    orientaciones = {'orientacion_este': 0, 'orientacion_oeste': 0, 'orientacion_norte': 0, 'orientacion_sur': 0}\n",
    "    if pd.isna(texto):\n",
    "        return orientaciones\n",
    "    texto = texto.lower()  # Convert to lowercase for consistency\n",
    "    if 'este' in texto:\n",
    "        orientaciones['orientacion_este'] = 1\n",
    "    if 'oeste' in texto:\n",
    "        orientaciones['orientacion_oeste'] = 1\n",
    "    if 'norte' in texto:\n",
    "        orientaciones['orientacion_norte'] = 1\n",
    "    if 'sur' in texto:\n",
    "        orientaciones['orientacion_sur'] = 1\n",
    "    return orientaciones\n",
    "\n",
    "# Apply the function to the 'Caracteristicas_basicas' column and expand the result into new columns\n",
    "orientaciones_df = df['Caracteristicas_basicas'].apply(detectar_orientaciones).apply(pd.Series)\n",
    "\n",
    "# Concatenate the new orientation columns to the original DataFrame\n",
    "df = pd.concat([df, orientaciones_df], axis=1)\n"
   ]
  },
  {
   "cell_type": "code",
   "execution_count": null,
   "metadata": {},
   "outputs": [],
   "source": [
    "# Create a new column for 'Armarios empotrados' or 'Armario empotrado', handling NaN values\n",
    "df['armarios_empotrados'] = df['Caracteristicas_basicas'].apply(\n",
    "    lambda x: 1 if isinstance(x, str) and ('armarios empotrados' in x.lower() or 'armario empotrado' in x.lower()) else 0\n",
    ")\n",
    "\n",
    "# Show the first rows to verify\n",
    "print(df[['Caracteristicas_basicas', 'armarios_empotrados']].head())\n"
   ]
  },
  {
   "cell_type": "code",
   "execution_count": null,
   "metadata": {},
   "outputs": [],
   "source": [
    "# Create a new column for 'Con ascensor' (with elevator), handling NaN values\n",
    "df['ascensor'] = df['Caracteristicas_basicas'].apply(\n",
    "    lambda x: 1 if isinstance(x, str) and 'con ascensor' in x.lower() else 0\n",
    ")\n",
    "\n",
    "# Show the first rows to verify\n",
    "print(df[['Caracteristicas_basicas', 'ascensor']].head())\n"
   ]
  },
  {
   "cell_type": "code",
   "execution_count": null,
   "metadata": {},
   "outputs": [],
   "source": [
    "# Use a regular expression to extract only the heating information until the first semicolon\n",
    "df['Calefacción'] = df['Caracteristicas_basicas'].str.extract(r'Calefacción ([^;]+)').fillna('sin calefacción')\n",
    "\n",
    "# Convert to 'category' type for use in Random Forest\n",
    "df['Calefacción'] = df['Calefacción'].astype('category')\n",
    "\n",
    "# Show the first rows to verify the result\n",
    "print(df[['Caracteristicas_basicas', 'Calefacción']].head())\n",
    "\n"
   ]
  },
  {
   "cell_type": "code",
   "execution_count": null,
   "metadata": {},
   "outputs": [],
   "source": [
    "# Use a regular expression to extract the number that follows the word \"Planta\"\n",
    "df['planta_numero'] = df['Caracteristicas_basicas'].str.extract(r'Planta (\\d+)')\n",
    "\n",
    "# Convert the new column to a numeric (integer) data type\n",
    "df['planta_numero'] = pd.to_numeric(df['planta_numero'], errors='coerce').astype('Int64')\n",
    "\n",
    "# Show the first rows to verify\n",
    "print(df[['Caracteristicas_basicas', 'planta_numero']].head())\n"
   ]
  },
  {
   "cell_type": "code",
   "execution_count": null,
   "metadata": {},
   "outputs": [],
   "source": [
    "# Create the columns 'planta_numero', 'planta_exterior', and 'planta_interior'\n",
    "# Extract the floor number\n",
    "df['planta_numero'] = df['Caracteristicas_basicas'].str.extract(r'Planta (\\d+)')\n",
    "\n",
    "# Convert the floor number column to integer\n",
    "df['planta_numero'] = pd.to_numeric(df['planta_numero'], errors='coerce').astype('Int64')\n",
    "\n",
    "# Create the columns for exterior and interior, based on the presence of those words\n",
    "df['Exterior'] = df['Caracteristicas_basicas'].apply(lambda x: 1 if isinstance(x, str) and 'exterior' in x.lower() else 0)\n",
    "df['Interior'] = df['Caracteristicas_basicas'].apply(lambda x: 1 if isinstance(x, str) and 'interior' in x.lower() else 0)\n",
    "\n",
    "# Show some rows to verify the result\n",
    "print(df[['Caracteristicas_basicas', 'planta_numero', 'Exterior', 'Interior']].head())\n"
   ]
  },
  {
   "cell_type": "code",
   "execution_count": null,
   "metadata": {},
   "outputs": [],
   "source": [
    "# Create a new column to indicate if there is a garage\n",
    "df['plaza_garaje'] = df['Caracteristicas_basicas'].apply(lambda x: 1 if isinstance(x, str) and 'garaje' in x.lower() else 0)\n",
    "\n",
    "# Create a new column for 'Garage included'\n",
    "df['garaje_incluido'] = df['Caracteristicas_basicas'].apply(lambda x: 1 if isinstance(x, str) and 'incluida' in x.lower() else 0)\n",
    "\n",
    "# Create a new column for 'Additional garage'\n",
    "df['garaje_adicional'] = df['Caracteristicas_basicas'].apply(lambda x: 1 if isinstance(x, str) and 'adicionales' in x.lower() else 0)\n",
    "\n",
    "# Show some rows to verify the result\n",
    "print(df[['Caracteristicas_basicas', 'plaza_garaje', 'garaje_incluido', 'garaje_adicional']].head())\n"
   ]
  },
  {
   "cell_type": "code",
   "execution_count": null,
   "metadata": {},
   "outputs": [],
   "source": [
    "# Create a new column to indicate if the access and the property are adapted for reduced mobility\n",
    "df['adaptado_movilidad_reducida'] = df['Caracteristicas_basicas'].apply(lambda x: 1 if isinstance(x, str) and 'movilidad reducida' in x.lower() else 0)\n",
    "\n",
    "# Show some rows to verify the result\n",
    "print(df[['Caracteristicas_basicas', 'adaptado_movilidad_reducida']].head())\n"
   ]
  },
  {
   "cell_type": "code",
   "execution_count": null,
   "metadata": {},
   "outputs": [],
   "source": [
    "# Function to extract the year of construction\n",
    "def extraer_ano_construccion(texto):\n",
    "    # Use regular expressions to find the number following \"Construido en\"\n",
    "    match_ano = re.search(r'construido en\\s*(\\d+)', texto.lower())\n",
    "    \n",
    "    # Extract the value as an integer if found\n",
    "    return int(match_ano.group(1)) if match_ano else None\n",
    "\n",
    "# Apply the function to the 'Caracteristicas_basicas' column to extract the year of construction\n",
    "df['ano_construccion'] = df['Caracteristicas_basicas'].apply(lambda x: extraer_ano_construccion(str(x)))\n",
    "\n",
    "# Convert to integers making sure there are no decimals\n",
    "df['ano_construccion'] = df['ano_construccion'].astype('Int64')\n",
    "\n",
    "# View the first results\n",
    "print(df[['Caracteristicas_basicas', 'ano_construccion']].head())\n"
   ]
  },
  {
   "cell_type": "code",
   "execution_count": null,
   "metadata": {},
   "outputs": [],
   "source": [
    "# Function to detect extra features\n",
    "def extraer_caracteristicas_extras(texto):\n",
    "    # Convert the text to lowercase for standardization\n",
    "    texto = texto.lower()\n",
    "    \n",
    "    # Detect the presence of each feature\n",
    "    jardin = 1 if 'jardín' in texto else 0\n",
    "    piscina = 1 if 'piscina' in texto else 0\n",
    "    aire_acondicionado = 1 if 'aire acondicionado' in texto else 0\n",
    "    zonas_verdes = 1 if 'zonas verdes' in texto else 0\n",
    "    \n",
    "    return pd.Series([jardin, piscina, aire_acondicionado, zonas_verdes])\n",
    "\n",
    "# Apply the function to the 'Caracteristicas_extra' column and create the new columns\n",
    "df[['jardin', 'piscina', 'aire_acondicionado', 'zonas_verdes']] = df['Caracteristicas_extra'].apply(lambda x: extraer_caracteristicas_extras(str(x)))\n",
    "\n",
    "# View the first results\n",
    "print(df[['Caracteristicas_extra', 'jardin', 'piscina', 'aire_acondicionado', 'zonas_verdes']].head())\n"
   ]
  },
  {
   "cell_type": "code",
   "execution_count": null,
   "metadata": {},
   "outputs": [],
   "source": [
    "# Drop the columns 'Caracteristicas_basicas' and 'Caracteristicas_extra'\n",
    "df = df.drop(columns=['Caracteristicas_basicas', 'Caracteristicas_extra'])\n",
    "\n",
    "# Save the DataFrame to a CSV file\n",
    "df.to_csv('casas_idealista_procesado_extra.csv', index=False, sep=';', encoding='utf-8')\n"
   ]
  }
 ],
 "metadata": {
  "kernelspec": {
   "display_name": "Python 3",
   "language": "python",
   "name": "python3"
  },
  "language_info": {
   "codemirror_mode": {
    "name": "ipython",
    "version": 3
   },
   "file_extension": ".py",
   "mimetype": "text/x-python",
   "name": "python",
   "nbconvert_exporter": "python",
   "pygments_lexer": "ipython3",
   "version": "3.9.6"
  }
 },
 "nbformat": 4,
 "nbformat_minor": 2
}
